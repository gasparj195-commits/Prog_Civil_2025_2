{
  "nbformat": 4,
  "nbformat_minor": 0,
  "metadata": {
    "colab": {
      "provenance": [],
      "authorship_tag": "ABX9TyP7g/kS7MNOJod9Iltu/a6f",
      "include_colab_link": true
    },
    "kernelspec": {
      "name": "python3",
      "display_name": "Python 3"
    },
    "language_info": {
      "name": "python"
    }
  },
  "cells": [
    {
      "cell_type": "markdown",
      "metadata": {
        "id": "view-in-github",
        "colab_type": "text"
      },
      "source": [
        "<a href=\"https://colab.research.google.com/github/gasparj195-commits/Prog_Civil_2025_2/blob/main/semana_4_y_5.ipynb\" target=\"_parent\"><img src=\"https://colab.research.google.com/assets/colab-badge.svg\" alt=\"Open In Colab\"/></a>"
      ]
    },
    {
      "cell_type": "markdown",
      "source": [
        "#Caso de Ingeniería Civil: Calculadora de Peso Estructural (Diccionarios y Funciones)\n",
        "• Paso a Paso del Código:\n",
        "1. Crear un diccionario que funcione como una base de datos de densidades. La clave será el\n",
        "nombre del material y el valor será su densidad en kg/m³.\n",
        "2. Crear una función calcular_peso que reciba el diccionario de densidades, el nombre del material\n",
        "y su volumen.\n",
        "3. Dentro de la función, buscar la densidad del material en el diccionario.\n",
        "4. Si el material existe, calcular y devolver el peso (densidad * volumen). Si no, devolver un mensaje\n",
        "de error o None.\n",
        "5. En el programa principal, pedir al usuario el tipo de material y las dimensiones del elemento para\n",
        "calcular su volumen.\n",
        "6. Llamar a la función calcular_peso y mostrar el resultado.\n"
      ],
      "metadata": {
        "id": "z3w2o5jhTV5r"
      }
    },
    {
      "cell_type": "code",
      "metadata": {
        "colab": {
          "base_uri": "https://localhost:8080/"
        },
        "id": "07b8f99a",
        "outputId": "88cbcbef-7103-4cc1-f709-159cafdbfce3"
      },
      "source": [
        "# 1. Crear un diccionario de densidades\n",
        "densidades = {\n",
        "    \"acero\": 7850,  # kg/m³\n",
        "    \"hormigon\": 2400, # kg/m³\n",
        "    \"madera\": 700,   # kg/m³ (valor promedio, varía mucho)\n",
        "    \"aluminio\": 2700, # kg/m³\n",
        "    \"ladrillo\": 1800  # kg/m³ (valor promedio)\n",
        "}\n",
        "\n",
        "# 2. Crear una función calcular_peso\n",
        "def calcular_peso(diccionario_densidades, nombre_material, volumen):\n",
        "    \"\"\"\n",
        "    Calcula el peso de un material dado su volumen y densidad.\n",
        "\n",
        "    Args:\n",
        "        diccionario_densidades: Diccionario con las densidades de los materiales.\n",
        "        nombre_material: Nombre del material (clave en el diccionario).\n",
        "        volumen: Volumen del material en m³.\n",
        "\n",
        "    Returns:\n",
        "        El peso del material en kg si el material existe en el diccionario,\n",
        "        de lo contrario, devuelve un mensaje de error.\n",
        "    \"\"\"\n",
        "    # 3. Buscar la densidad del material en el diccionario\n",
        "    if nombre_material.lower() in diccionario_densidades:\n",
        "        densidad = diccionario_densidades[nombre_material.lower()]\n",
        "        # 4. Calcular y devolver el peso\n",
        "        peso = densidad * volumen\n",
        "        return peso\n",
        "    else:\n",
        "        # Si el material no existe, devolver un mensaje de error\n",
        "        return f\"Error: Material '{nombre_material}' no encontrado en la base de datos de densidades.\"\n",
        "\n",
        "# 5. En el programa principal, pedir al usuario el tipo de material y las dimensiones\n",
        "print(\"Calculadora de Peso Estructural\")\n",
        "print(\"Materiales disponibles:\", \", \".join(densidades.keys()))\n",
        "\n",
        "material_usuario = input(\"Ingrese el tipo de material: \")\n",
        "\n",
        "try:\n",
        "    # Pedir dimensiones para calcular el volumen (ejemplo simple: un cubo)\n",
        "    lado = float(input(\"Ingrese la longitud de un lado del elemento en metros (para un cubo): \"))\n",
        "    volumen_elemento = lado ** 3 # Calcular volumen de un cubo\n",
        "\n",
        "    # 6. Llamar a la función calcular_peso y mostrar el resultado\n",
        "    resultado_peso = calcular_peso(densidades, material_usuario, volumen_elemento)\n",
        "\n",
        "    if isinstance(resultado_peso, (int, float)):\n",
        "        print(f\"El peso del elemento de {material_usuario} con un volumen de {volumen_elemento:.2f} m³ es: {resultado_peso:.2f} kg\")\n",
        "    else:\n",
        "        print(resultado_peso) # Muestra el mensaje de error si el material no se encuentra\n",
        "\n",
        "except ValueError:\n",
        "    print(\"Entrada inválida. Asegúrese de ingresar números para las dimensiones.\")"
      ],
      "execution_count": 7,
      "outputs": [
        {
          "output_type": "stream",
          "name": "stdout",
          "text": [
            "Calculadora de Peso Estructural\n",
            "Materiales disponibles: acero, hormigon, madera, aluminio, ladrillo\n",
            "Ingrese el tipo de material: hormigon\n",
            "Ingrese la longitud de un lado del elemento en metros (para un cubo): 6\n",
            "El peso del elemento de hormigon con un volumen de 216.00 m³ es: 518400.00 kg\n"
          ]
        }
      ]
    }
  ]
}