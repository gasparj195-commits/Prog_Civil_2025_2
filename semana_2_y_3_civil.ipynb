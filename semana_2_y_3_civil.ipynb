{
  "nbformat": 4,
  "nbformat_minor": 0,
  "metadata": {
    "colab": {
      "provenance": [],
      "authorship_tag": "ABX9TyPnytDY6SW88Xov1suMNpb0",
      "include_colab_link": true
    },
    "kernelspec": {
      "name": "python3",
      "display_name": "Python 3"
    },
    "language_info": {
      "name": "python"
    }
  },
  "cells": [
    {
      "cell_type": "markdown",
      "metadata": {
        "id": "view-in-github",
        "colab_type": "text"
      },
      "source": [
        "<a href=\"https://colab.research.google.com/github/gasparj195-commits/Prog_Civil_2025_2/blob/main/semana_2_y_3_civil.ipynb\" target=\"_parent\"><img src=\"https://colab.research.google.com/assets/colab-badge.svg\" alt=\"Open In Colab\"/></a>"
      ]
    },
    {
      "cell_type": "markdown",
      "source": [
        "#Clasificador de pH del Suelo El pH del suelo4\n",
        "\n",
        "es un factor crítico para la absorción de\n",
        "nutrientes por parte de las plantas. Desarrollarás un programa que recibe un valor de pH e informa al\n",
        "agricultor si el suelo es ácido, neutro o alcalino, ofreciendo una recomendación general.\n"
      ],
      "metadata": {
        "id": "qgh2wenY_VfS"
      }
    },
    {
      "cell_type": "code",
      "execution_count": null,
      "metadata": {
        "id": "BnTpI1-b-tKP"
      },
      "outputs": [],
      "source": [
        "# Explicar al usuario que el programa clasifica el pH del suelo.\n",
        "print(\"Este programa clasifica el pH del suelo.\")\n",
        "\n",
        "# Pedir al usuario que ingrese el valor de pH medido (puede ser decimal).\n",
        "# Guardar el valor en una variable.\n",
        "pH = float(input(\"Ingrese el valor de pH medido: \"))\n",
        "\n",
        "# Clasificar el pH del suelo.\n",
        "# Dentro del 'if', mostrar un mensaje indicando que el suelo es \"Ácido\" y recomendarel uso de cal agrícola.\n",
        "if pH < 7:\n",
        "    print(\"El suelo es ácido.\")\n",
        "    print(\"Recomendamos el uso de cal agrícola.\")\n",
        "# Utilizar una estructura 'elif' para la segunda condición: si el pH es mayorque 7\n",
        "elif pH > 7:\n",
        "# Dentro del 'elif', mostrar un mensaje indicando que el suelo es \"Alcalino\" y recomendar el uso de sulfato\n",
        "    print(\"El suelo es alcalino.\")\n",
        "    print(\"Recomendamos el uso de sulfato.\")\n",
        "# Utilizar una estructura 'else' para la tercera condición: si el pH es igual a 7\n",
        "else:\n",
        "# Dentro del 'else', mostrar un mensaje indicando que el suelo es \"Neutro\" y que es ideal para la mayoría de los cultivos.\n",
        "    print(\"El suelo es neutro.\")\n",
        "    print(\"Es ideal para la mayoría de los cultivos.\")\n",
        "\n"
      ]
    },
    {
      "cell_type": "code",
      "source": [],
      "metadata": {
        "id": "PnJyJlLgNdIv"
      },
      "execution_count": null,
      "outputs": []
    },
    {
      "cell_type": "code",
      "metadata": {
        "id": "8306a93f"
      },
      "source": [
        "# 1. Inicializar una variable para la carga total en 0.\n",
        "carga_total = 0\n",
        "\n",
        "# 2. Preguntar al usuario cuántos pisos tiene el edificio.\n",
        "# 3. Guardar el número de pisos en una variable.\n",
        "num_pisos = int(input(\"Ingrese cuántos pisos tiene el edificio: \"))\n",
        "\n",
        "# 4. Crear un bucle 'for' que se ejecute tantas veces como el número de pisos.\n",
        "for i in range(1, num_pisos + 1):\n",
        "    # 5. Dentro del bucle, pedir al usuario la carga del piso actual en toneladas.\n",
        "    carga_piso = float(input(f\"Ingrese la carga del piso {i} (en toneladas): \"))\n",
        "    # 6. Añadir esta carga a la variable de carga total.\n",
        "    carga_total += carga_piso\n",
        "\n",
        "# 7. Una vez finalizado el bucle, mostrar la carga total acumulada.\n",
        "print(f\"La carga total acumulada que la columna transmite a la cimentación es: {carga_total} toneladas\")"
      ],
      "execution_count": null,
      "outputs": []
    },
    {
      "cell_type": "markdown",
      "source": [
        "#Situación 2: Cálculo de Carga Acumulada en una Columna Una columna"
      ],
      "metadata": {
        "id": "hFV90nBCPAO_"
      }
    }
  ]
}